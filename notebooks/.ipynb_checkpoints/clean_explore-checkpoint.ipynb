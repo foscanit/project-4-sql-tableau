{
 "cells": [
  {
   "cell_type": "code",
   "execution_count": 1,
   "id": "bb6c3689",
   "metadata": {},
   "outputs": [],
   "source": [
    "import pandas as pd\n",
    "import matplotlib.pyplot as plt\n",
    "from matplotlib.pyplot import figure\n",
    "import seaborn as sns\n",
    "import numpy as np\n",
    "import pymysql\n",
    "import sqlalchemy as alch\n",
    "from getpass import getpass\n",
    "import os\n",
    "import re"
   ]
  },
  {
   "cell_type": "markdown",
   "id": "e94c1e30",
   "metadata": {},
   "source": [
    "# Exploring and preprocessing 5 datasets"
   ]
  },
  {
   "cell_type": "markdown",
   "id": "6f1bd9f2",
   "metadata": {},
   "source": [
    "## I. First dataset: Extinct languages "
   ]
  },
  {
   "cell_type": "code",
   "execution_count": 2,
   "id": "159c5ec5",
   "metadata": {},
   "outputs": [],
   "source": [
    "extinct_languages_df = pd.read_csv(\"/Users/usuari/Desktop/Ironhack/BOOTCAMP/projects/project-4-sql-tableau/data/languages.csv\")"
   ]
  },
  {
   "cell_type": "markdown",
   "id": "4f055a6f",
   "metadata": {},
   "source": [
    "The full detailed dataset includes names of languages, number of speakers, the names of countries where the language is still spoken, and the degree of endangerment. The UNESCO endangerment classification is as follows:\n",
    "\n",
    "- Vulnerable: most children speak the language, but it may be restricted to certain domains (e.g., home)\n",
    "\n",
    "- Definitely endangered: children no longer learn the language as a 'mother tongue' in the home\n",
    "\n",
    "- Severely endangered: language is spoken by grandparents and older generations; while the parent generation may understand it, they do not speak it to children or among themselves\n",
    "\n",
    "- Critically endangered: the youngest speakers are grandparents and older, and they speak the language partially and infrequently\n",
    "\n",
    "- Extinct: there are no speakers left"
   ]
  },
  {
   "cell_type": "code",
   "execution_count": 5,
   "id": "659bbbc3",
   "metadata": {},
   "outputs": [
    {
     "data": {
      "text/plain": [
       "(2722, 15)"
      ]
     },
     "execution_count": 5,
     "metadata": {},
     "output_type": "execute_result"
    }
   ],
   "source": [
    "extinct_languages_df.shape"
   ]
  },
  {
   "cell_type": "code",
   "execution_count": 4,
   "id": "c00ce17b",
   "metadata": {
    "scrolled": true
   },
   "outputs": [
    {
     "data": {
      "text/html": [
       "<div>\n",
       "<style scoped>\n",
       "    .dataframe tbody tr th:only-of-type {\n",
       "        vertical-align: middle;\n",
       "    }\n",
       "\n",
       "    .dataframe tbody tr th {\n",
       "        vertical-align: top;\n",
       "    }\n",
       "\n",
       "    .dataframe thead th {\n",
       "        text-align: right;\n",
       "    }\n",
       "</style>\n",
       "<table border=\"1\" class=\"dataframe\">\n",
       "  <thead>\n",
       "    <tr style=\"text-align: right;\">\n",
       "      <th></th>\n",
       "      <th>ID</th>\n",
       "      <th>Name in English</th>\n",
       "      <th>Name in French</th>\n",
       "      <th>Name in Spanish</th>\n",
       "      <th>Countries</th>\n",
       "      <th>Country codes alpha 3</th>\n",
       "      <th>ISO639-3 codes</th>\n",
       "      <th>Degree of endangerment</th>\n",
       "      <th>Alternate names</th>\n",
       "      <th>Name in the language</th>\n",
       "      <th>Number of speakers</th>\n",
       "      <th>Sources</th>\n",
       "      <th>Latitude</th>\n",
       "      <th>Longitude</th>\n",
       "      <th>Description of the location</th>\n",
       "    </tr>\n",
       "  </thead>\n",
       "  <tbody>\n",
       "    <tr>\n",
       "      <th>1254</th>\n",
       "      <td>2489</td>\n",
       "      <td>Kumak</td>\n",
       "      <td>kumak</td>\n",
       "      <td>kumak</td>\n",
       "      <td>New Caledonia (France)</td>\n",
       "      <td>NCL</td>\n",
       "      <td>nee</td>\n",
       "      <td>Vulnerable</td>\n",
       "      <td>nêlêmwa, nixumwak</td>\n",
       "      <td>NaN</td>\n",
       "      <td>847.0</td>\n",
       "      <td>http://lacito.vjf.cnrs.fr/</td>\n",
       "      <td>-20.1278</td>\n",
       "      <td>164.0259</td>\n",
       "      <td>North of the \"Grande Terre\" (Poum, Koumak and ...</td>\n",
       "    </tr>\n",
       "    <tr>\n",
       "      <th>976</th>\n",
       "      <td>386</td>\n",
       "      <td>Lule Saami</td>\n",
       "      <td>lule saami</td>\n",
       "      <td>saamí de Lule</td>\n",
       "      <td>Norway, Sweden</td>\n",
       "      <td>NOR, SWE</td>\n",
       "      <td>smj</td>\n",
       "      <td>Severely endangered</td>\n",
       "      <td>NaN</td>\n",
       "      <td>julevsábme</td>\n",
       "      <td>2000.0</td>\n",
       "      <td>Pekka Sammallahti: The Saami languages: an int...</td>\n",
       "      <td>67.2720</td>\n",
       "      <td>17.7978</td>\n",
       "      <td>Jokkmokk County and parts of Gällivare and oth...</td>\n",
       "    </tr>\n",
       "  </tbody>\n",
       "</table>\n",
       "</div>"
      ],
      "text/plain": [
       "        ID Name in English Name in French Name in Spanish  \\\n",
       "1254  2489           Kumak          kumak           kumak   \n",
       "976    386      Lule Saami     lule saami   saamí de Lule   \n",
       "\n",
       "                   Countries Country codes alpha 3 ISO639-3 codes  \\\n",
       "1254  New Caledonia (France)                   NCL            nee   \n",
       "976           Norway, Sweden              NOR, SWE            smj   \n",
       "\n",
       "     Degree of endangerment    Alternate names Name in the language  \\\n",
       "1254             Vulnerable  nêlêmwa, nixumwak                  NaN   \n",
       "976     Severely endangered                NaN           julevsábme   \n",
       "\n",
       "      Number of speakers                                            Sources  \\\n",
       "1254               847.0                         http://lacito.vjf.cnrs.fr/   \n",
       "976               2000.0  Pekka Sammallahti: The Saami languages: an int...   \n",
       "\n",
       "      Latitude  Longitude                        Description of the location  \n",
       "1254  -20.1278   164.0259  North of the \"Grande Terre\" (Poum, Koumak and ...  \n",
       "976    67.2720    17.7978  Jokkmokk County and parts of Gällivare and oth...  "
      ]
     },
     "execution_count": 4,
     "metadata": {},
     "output_type": "execute_result"
    }
   ],
   "source": [
    "extinct_languages_df.sample(2)"
   ]
  },
  {
   "cell_type": "code",
   "execution_count": 7,
   "id": "e40d8e6d",
   "metadata": {},
   "outputs": [
    {
     "name": "stdout",
     "output_type": "stream",
     "text": [
      "<class 'pandas.core.frame.DataFrame'>\n",
      "RangeIndex: 2722 entries, 0 to 2721\n",
      "Data columns (total 15 columns):\n",
      " #   Column                       Non-Null Count  Dtype  \n",
      "---  ------                       --------------  -----  \n",
      " 0   ID                           2722 non-null   int64  \n",
      " 1   Name in English              2722 non-null   object \n",
      " 2   Name in French               2699 non-null   object \n",
      " 3   Name in Spanish              2701 non-null   object \n",
      " 4   Countries                    2721 non-null   object \n",
      " 5   Country codes alpha 3        2721 non-null   object \n",
      " 6   ISO639-3 codes               2458 non-null   object \n",
      " 7   Degree of endangerment       2722 non-null   object \n",
      " 8   Alternate names              1583 non-null   object \n",
      " 9   Name in the language         27 non-null     object \n",
      " 10  Number of speakers           2539 non-null   float64\n",
      " 11  Sources                      2079 non-null   object \n",
      " 12  Latitude                     2719 non-null   float64\n",
      " 13  Longitude                    2719 non-null   float64\n",
      " 14  Description of the location  1870 non-null   object \n",
      "dtypes: float64(3), int64(1), object(11)\n",
      "memory usage: 319.1+ KB\n"
     ]
    }
   ],
   "source": [
    "extinct_languages_df.info()"
   ]
  },
  {
   "cell_type": "code",
   "execution_count": 7,
   "id": "b77a9f02",
   "metadata": {},
   "outputs": [
    {
     "data": {
      "text/plain": [
       "ID                               int64\n",
       "Name in English                 object\n",
       "Name in French                  object\n",
       "Name in Spanish                 object\n",
       "Countries                       object\n",
       "Country codes alpha 3           object\n",
       "ISO639-3 codes                  object\n",
       "Degree of endangerment          object\n",
       "Alternate names                 object\n",
       "Name in the language            object\n",
       "Number of speakers             float64\n",
       "Sources                         object\n",
       "Latitude                       float64\n",
       "Longitude                      float64\n",
       "Description of the location     object\n",
       "dtype: object"
      ]
     },
     "execution_count": 7,
     "metadata": {},
     "output_type": "execute_result"
    }
   ],
   "source": [
    "extinct_languages_df.dtypes"
   ]
  },
  {
   "cell_type": "code",
   "execution_count": 8,
   "id": "2028a54e",
   "metadata": {
    "scrolled": false
   },
   "outputs": [
    {
     "data": {
      "text/plain": [
       "Index(['ID', 'Name in English', 'Name in French', 'Name in Spanish',\n",
       "       'Countries', 'Country codes alpha 3', 'ISO639-3 codes',\n",
       "       'Degree of endangerment', 'Alternate names', 'Name in the language',\n",
       "       'Number of speakers', 'Sources', 'Latitude', 'Longitude',\n",
       "       'Description of the location'],\n",
       "      dtype='object')"
      ]
     },
     "execution_count": 8,
     "metadata": {},
     "output_type": "execute_result"
    }
   ],
   "source": [
    "extinct_languages_df.columns"
   ]
  },
  {
   "cell_type": "code",
   "execution_count": 9,
   "id": "5df71ef4",
   "metadata": {},
   "outputs": [
    {
     "data": {
      "text/plain": [
       "(2722, 9)"
      ]
     },
     "execution_count": 9,
     "metadata": {},
     "output_type": "execute_result"
    }
   ],
   "source": [
    "desired_columns = ['ID', 'Name in English', 'Name in Spanish', 'Countries', 'Country codes alpha 3', 'Degree of endangerment', 'Number of speakers', 'Latitude', 'Longitude']\n",
    "\n",
    "extinct_languages = extinct_languages_df[desired_columns]\n",
    "extinct_languages.shape"
   ]
  },
  {
   "cell_type": "code",
   "execution_count": 10,
   "id": "650c91bf",
   "metadata": {},
   "outputs": [
    {
     "data": {
      "text/html": [
       "<div>\n",
       "<style scoped>\n",
       "    .dataframe tbody tr th:only-of-type {\n",
       "        vertical-align: middle;\n",
       "    }\n",
       "\n",
       "    .dataframe tbody tr th {\n",
       "        vertical-align: top;\n",
       "    }\n",
       "\n",
       "    .dataframe thead th {\n",
       "        text-align: right;\n",
       "    }\n",
       "</style>\n",
       "<table border=\"1\" class=\"dataframe\">\n",
       "  <thead>\n",
       "    <tr style=\"text-align: right;\">\n",
       "      <th></th>\n",
       "      <th>id</th>\n",
       "      <th>name_in_english</th>\n",
       "      <th>name_in_spanish</th>\n",
       "      <th>countries</th>\n",
       "      <th>country_codes_alpha_3</th>\n",
       "      <th>degree_of_endangerment</th>\n",
       "      <th>number_of_speakers</th>\n",
       "      <th>latitude</th>\n",
       "      <th>longitude</th>\n",
       "    </tr>\n",
       "  </thead>\n",
       "  <tbody>\n",
       "    <tr>\n",
       "      <th>129</th>\n",
       "      <td>389</td>\n",
       "      <td>Gagauz (Bessarabia)</td>\n",
       "      <td>gagauso (Besarabia)</td>\n",
       "      <td>Republic of Moldova, Ukraine</td>\n",
       "      <td>MDA, UKR</td>\n",
       "      <td>Definitely endangered</td>\n",
       "      <td>180000.0</td>\n",
       "      <td>46.0922</td>\n",
       "      <td>28.7951</td>\n",
       "    </tr>\n",
       "    <tr>\n",
       "      <th>1778</th>\n",
       "      <td>1735</td>\n",
       "      <td>Molo</td>\n",
       "      <td>molo</td>\n",
       "      <td>Sudan</td>\n",
       "      <td>SDN</td>\n",
       "      <td>Critically endangered</td>\n",
       "      <td>100.0</td>\n",
       "      <td>10.8980</td>\n",
       "      <td>34.2773</td>\n",
       "    </tr>\n",
       "  </tbody>\n",
       "</table>\n",
       "</div>"
      ],
      "text/plain": [
       "        id      name_in_english      name_in_spanish  \\\n",
       "129    389  Gagauz (Bessarabia)  gagauso (Besarabia)   \n",
       "1778  1735                 Molo                 molo   \n",
       "\n",
       "                         countries country_codes_alpha_3  \\\n",
       "129   Republic of Moldova, Ukraine              MDA, UKR   \n",
       "1778                         Sudan                   SDN   \n",
       "\n",
       "     degree_of_endangerment  number_of_speakers  latitude  longitude  \n",
       "129   Definitely endangered            180000.0   46.0922    28.7951  \n",
       "1778  Critically endangered               100.0   10.8980    34.2773  "
      ]
     },
     "execution_count": 10,
     "metadata": {},
     "output_type": "execute_result"
    }
   ],
   "source": [
    "extinct_languages.columns = [i.lower().replace(\" \", \"_\") for i in extinct_languages.columns]\n",
    "extinct_languages.sample(2)"
   ]
  },
  {
   "cell_type": "code",
   "execution_count": 11,
   "id": "a9d9fbdf",
   "metadata": {
    "scrolled": false
   },
   "outputs": [
    {
     "name": "stderr",
     "output_type": "stream",
     "text": [
      "/var/folders/_b/4s7pp99j1qq9lxsqpjphc78m0000gn/T/ipykernel_71267/233109667.py:1: SettingWithCopyWarning: \n",
      "A value is trying to be set on a copy of a slice from a DataFrame\n",
      "\n",
      "See the caveats in the documentation: https://pandas.pydata.org/pandas-docs/stable/user_guide/indexing.html#returning-a-view-versus-a-copy\n",
      "  extinct_languages.rename(columns={\"country_codes_alpha_3\": \"country_code\"}, inplace=True)\n"
     ]
    },
    {
     "data": {
      "text/html": [
       "<div>\n",
       "<style scoped>\n",
       "    .dataframe tbody tr th:only-of-type {\n",
       "        vertical-align: middle;\n",
       "    }\n",
       "\n",
       "    .dataframe tbody tr th {\n",
       "        vertical-align: top;\n",
       "    }\n",
       "\n",
       "    .dataframe thead th {\n",
       "        text-align: right;\n",
       "    }\n",
       "</style>\n",
       "<table border=\"1\" class=\"dataframe\">\n",
       "  <thead>\n",
       "    <tr style=\"text-align: right;\">\n",
       "      <th></th>\n",
       "      <th>id</th>\n",
       "      <th>name_in_english</th>\n",
       "      <th>name_in_spanish</th>\n",
       "      <th>countries</th>\n",
       "      <th>country_code</th>\n",
       "      <th>degree_of_endangerment</th>\n",
       "      <th>number_of_speakers</th>\n",
       "      <th>latitude</th>\n",
       "      <th>longitude</th>\n",
       "    </tr>\n",
       "  </thead>\n",
       "  <tbody>\n",
       "    <tr>\n",
       "      <th>0</th>\n",
       "      <td>1022</td>\n",
       "      <td>South Italian</td>\n",
       "      <td>napolitano-calabrés</td>\n",
       "      <td>Italy</td>\n",
       "      <td>ITA</td>\n",
       "      <td>Vulnerable</td>\n",
       "      <td>7500000.0</td>\n",
       "      <td>40.9798</td>\n",
       "      <td>15.2490</td>\n",
       "    </tr>\n",
       "    <tr>\n",
       "      <th>1</th>\n",
       "      <td>1023</td>\n",
       "      <td>Sicilian</td>\n",
       "      <td>siciliano</td>\n",
       "      <td>Italy</td>\n",
       "      <td>ITA</td>\n",
       "      <td>Vulnerable</td>\n",
       "      <td>5000000.0</td>\n",
       "      <td>37.4399</td>\n",
       "      <td>14.5019</td>\n",
       "    </tr>\n",
       "    <tr>\n",
       "      <th>2</th>\n",
       "      <td>383</td>\n",
       "      <td>Low Saxon</td>\n",
       "      <td>bajo sajón</td>\n",
       "      <td>Germany, Denmark, Netherlands, Poland, Russian...</td>\n",
       "      <td>DEU, DNK, NLD, POL, RUS</td>\n",
       "      <td>Vulnerable</td>\n",
       "      <td>4800000.0</td>\n",
       "      <td>53.4029</td>\n",
       "      <td>10.3601</td>\n",
       "    </tr>\n",
       "  </tbody>\n",
       "</table>\n",
       "</div>"
      ],
      "text/plain": [
       "     id name_in_english      name_in_spanish  \\\n",
       "0  1022   South Italian  napolitano-calabrés   \n",
       "1  1023        Sicilian            siciliano   \n",
       "2   383       Low Saxon           bajo sajón   \n",
       "\n",
       "                                           countries             country_code  \\\n",
       "0                                              Italy                      ITA   \n",
       "1                                              Italy                      ITA   \n",
       "2  Germany, Denmark, Netherlands, Poland, Russian...  DEU, DNK, NLD, POL, RUS   \n",
       "\n",
       "  degree_of_endangerment  number_of_speakers  latitude  longitude  \n",
       "0             Vulnerable           7500000.0   40.9798    15.2490  \n",
       "1             Vulnerable           5000000.0   37.4399    14.5019  \n",
       "2             Vulnerable           4800000.0   53.4029    10.3601  "
      ]
     },
     "execution_count": 11,
     "metadata": {},
     "output_type": "execute_result"
    }
   ],
   "source": [
    "extinct_languages.rename(columns={\"country_codes_alpha_3\": \"country_code\"}, inplace=True)\n",
    "extinct_languages.head(3)"
   ]
  },
  {
   "cell_type": "code",
   "execution_count": 12,
   "id": "9739e134",
   "metadata": {
    "scrolled": true
   },
   "outputs": [
    {
     "data": {
      "text/plain": [
       "id                          0\n",
       "name_in_english             0\n",
       "name_in_spanish            21\n",
       "countries                   1\n",
       "country_code                1\n",
       "degree_of_endangerment      0\n",
       "number_of_speakers        183\n",
       "latitude                    3\n",
       "longitude                   3\n",
       "dtype: int64"
      ]
     },
     "execution_count": 12,
     "metadata": {},
     "output_type": "execute_result"
    }
   ],
   "source": [
    "# I check how many null values are there\n",
    "\n",
    "extinct_languages.isna().sum()"
   ]
  },
  {
   "cell_type": "code",
   "execution_count": 13,
   "id": "d2851d3d",
   "metadata": {
    "scrolled": true
   },
   "outputs": [
    {
     "name": "stdout",
     "output_type": "stream",
     "text": [
      "Dataset has 0 duplicated data.\n"
     ]
    }
   ],
   "source": [
    "# I check if there's duplicated data.\n",
    "\n",
    "print(f\"Dataset has {extinct_languages.duplicated().sum()} duplicated data.\")"
   ]
  },
  {
   "cell_type": "code",
   "execution_count": 13,
   "id": "f4b7cb51",
   "metadata": {},
   "outputs": [],
   "source": [
    "# I save my cleaned dataframe.\n",
    "\n",
    "extinct_languages.to_csv(\"extinct_languages.csv\", index=False)\n",
    "\n",
    "folder_path = \"/Users/usuari/Desktop/Ironhack/BOOTCAMP/projects/project-4-sql-tableau/data\"\n",
    "file_name = \"extinct_languages.csv\"\n",
    "\n",
    "# Combine the folder path and filename to create the full file path\n",
    "full_file_path = f\"{folder_path}/{file_name}\"\n",
    "\n",
    "# Export the DataFrame to the specified folder\n",
    "extinct_languages.to_csv(full_file_path, index=False)"
   ]
  },
  {
   "cell_type": "markdown",
   "id": "50e28422",
   "metadata": {},
   "source": [
    "## II. Second dataset: List of languages by total number of speakers (most spoken languages in the world). "
   ]
  },
  {
   "cell_type": "code",
   "execution_count": 14,
   "id": "7e7775bb",
   "metadata": {},
   "outputs": [],
   "source": [
    "top_languages = pd.read_csv(\"/Users/usuari/Desktop/Ironhack/BOOTCAMP/projects/project-4-sql-tableau/data/list_languages.csv\")"
   ]
  },
  {
   "cell_type": "code",
   "execution_count": 15,
   "id": "adeda628",
   "metadata": {},
   "outputs": [
    {
     "data": {
      "text/plain": [
       "(45, 7)"
      ]
     },
     "execution_count": 15,
     "metadata": {},
     "output_type": "execute_result"
    }
   ],
   "source": [
    "top_languages.shape"
   ]
  },
  {
   "cell_type": "code",
   "execution_count": 16,
   "id": "84e0f556",
   "metadata": {},
   "outputs": [
    {
     "data": {
      "text/plain": [
       "Unnamed: 0                       int64\n",
       "Language                        object\n",
       "Family                          object\n",
       "Branch                          object\n",
       "First-language(L1) speakers     object\n",
       "Second-language(L2) speakers    object\n",
       "Total speakers(L1+L2)           object\n",
       "dtype: object"
      ]
     },
     "execution_count": 16,
     "metadata": {},
     "output_type": "execute_result"
    }
   ],
   "source": [
    "top_languages.dtypes"
   ]
  },
  {
   "cell_type": "code",
   "execution_count": 17,
   "id": "3c135b70",
   "metadata": {},
   "outputs": [
    {
     "data": {
      "text/plain": [
       "Unnamed: 0                      0\n",
       "Language                        0\n",
       "Family                          0\n",
       "Branch                          0\n",
       "First-language(L1) speakers     0\n",
       "Second-language(L2) speakers    0\n",
       "Total speakers(L1+L2)           0\n",
       "dtype: int64"
      ]
     },
     "execution_count": 17,
     "metadata": {},
     "output_type": "execute_result"
    }
   ],
   "source": [
    "top_languages.isna().sum()"
   ]
  },
  {
   "cell_type": "code",
   "execution_count": 18,
   "id": "424a7a35",
   "metadata": {
    "scrolled": false
   },
   "outputs": [
    {
     "name": "stdout",
     "output_type": "stream",
     "text": [
      "Dataset has 0 duplicated data.\n"
     ]
    }
   ],
   "source": [
    "print(f\"Dataset has {top_languages.duplicated().sum()} duplicated data.\")"
   ]
  },
  {
   "cell_type": "code",
   "execution_count": 19,
   "id": "9e460f2d",
   "metadata": {},
   "outputs": [],
   "source": [
    "top_languages.columns = [i.lower().replace(\" \", \"_\") for i in top_languages.columns]"
   ]
  },
  {
   "cell_type": "code",
   "execution_count": 21,
   "id": "838a00fa",
   "metadata": {
    "scrolled": true
   },
   "outputs": [
    {
     "data": {
      "text/html": [
       "<div>\n",
       "<style scoped>\n",
       "    .dataframe tbody tr th:only-of-type {\n",
       "        vertical-align: middle;\n",
       "    }\n",
       "\n",
       "    .dataframe tbody tr th {\n",
       "        vertical-align: top;\n",
       "    }\n",
       "\n",
       "    .dataframe thead th {\n",
       "        text-align: right;\n",
       "    }\n",
       "</style>\n",
       "<table border=\"1\" class=\"dataframe\">\n",
       "  <thead>\n",
       "    <tr style=\"text-align: right;\">\n",
       "      <th></th>\n",
       "      <th>unnamed:_0</th>\n",
       "      <th>language</th>\n",
       "      <th>family</th>\n",
       "      <th>branch</th>\n",
       "      <th>first_speakers</th>\n",
       "      <th>second_speakers</th>\n",
       "      <th>total_speakers</th>\n",
       "    </tr>\n",
       "  </thead>\n",
       "  <tbody>\n",
       "    <tr>\n",
       "      <th>0</th>\n",
       "      <td>0</td>\n",
       "      <td>English(excl. creole languages)</td>\n",
       "      <td>Indo-European</td>\n",
       "      <td>Germanic</td>\n",
       "      <td>372.9 million</td>\n",
       "      <td>1.080 billion[5]</td>\n",
       "      <td>1.452 billion</td>\n",
       "    </tr>\n",
       "    <tr>\n",
       "      <th>1</th>\n",
       "      <td>1</td>\n",
       "      <td>Mandarin Chinese(incl. Standard Chinese, but e...</td>\n",
       "      <td>Sino-Tibetan</td>\n",
       "      <td>Sinitic</td>\n",
       "      <td>929.0 million</td>\n",
       "      <td>198.7 million[6]</td>\n",
       "      <td>1.118 billion</td>\n",
       "    </tr>\n",
       "    <tr>\n",
       "      <th>2</th>\n",
       "      <td>2</td>\n",
       "      <td>Hindi(excl. Urdu)</td>\n",
       "      <td>Indo-European</td>\n",
       "      <td>Indo-Aryan</td>\n",
       "      <td>343.9 million</td>\n",
       "      <td>258.3 million[7]</td>\n",
       "      <td>602.2 million</td>\n",
       "    </tr>\n",
       "    <tr>\n",
       "      <th>3</th>\n",
       "      <td>3</td>\n",
       "      <td>Spanish</td>\n",
       "      <td>Indo-European</td>\n",
       "      <td>Romance</td>\n",
       "      <td>474.7 million</td>\n",
       "      <td>73.6 million[8]</td>\n",
       "      <td>548.3 million</td>\n",
       "    </tr>\n",
       "  </tbody>\n",
       "</table>\n",
       "</div>"
      ],
      "text/plain": [
       "   unnamed:_0                                           language  \\\n",
       "0           0                    English(excl. creole languages)   \n",
       "1           1  Mandarin Chinese(incl. Standard Chinese, but e...   \n",
       "2           2                                  Hindi(excl. Urdu)   \n",
       "3           3                                            Spanish   \n",
       "\n",
       "          family      branch first_speakers   second_speakers total_speakers  \n",
       "0  Indo-European    Germanic  372.9 million  1.080 billion[5]  1.452 billion  \n",
       "1   Sino-Tibetan     Sinitic  929.0 million  198.7 million[6]  1.118 billion  \n",
       "2  Indo-European  Indo-Aryan  343.9 million  258.3 million[7]  602.2 million  \n",
       "3  Indo-European     Romance  474.7 million   73.6 million[8]  548.3 million  "
      ]
     },
     "execution_count": 21,
     "metadata": {},
     "output_type": "execute_result"
    }
   ],
   "source": [
    "top_languages.rename(columns={\n",
    "    \"first-language(l1)_speakers\": \"first_speakers\",\n",
    "    \"second-language(l2)_speakers\": \"second_speakers\",\n",
    "    \"total_speakers(l1+l2)\": \"total_speakers\"\n",
    "}, inplace=True)\n",
    "top_languages.head(4)"
   ]
  },
  {
   "cell_type": "code",
   "execution_count": 27,
   "id": "e2fb8cb3",
   "metadata": {},
   "outputs": [],
   "source": [
    "# I create a function to convert the values of the last three columns from objects to floats.\n",
    "\n",
    "def to_float(string):\n",
    "    try:\n",
    "        # Extract the numerical part\n",
    "        num_str = re.search(r'\\d+\\.\\d+', string).group()\n",
    "        \n",
    "        # Check for 'million' or 'billion' and multiply accordingly\n",
    "        if 'million' in string:\n",
    "            return float(num_str) * 1e6\n",
    "        elif 'billion' in string:\n",
    "            return float(num_str) * 1e9\n",
    "        else:\n",
    "            return float(num_str)\n",
    "    except (ValueError, AttributeError):\n",
    "        # Handle cases where conversion is not possible\n",
    "        return None"
   ]
  },
  {
   "cell_type": "code",
   "execution_count": 28,
   "id": "9d20da3e",
   "metadata": {},
   "outputs": [],
   "source": [
    "top_languages['first_speakers'] = top_languages['first_speakers'].apply(to_float)"
   ]
  },
  {
   "cell_type": "code",
   "execution_count": 30,
   "id": "61676d76",
   "metadata": {},
   "outputs": [
    {
     "data": {
      "text/html": [
       "<div>\n",
       "<style scoped>\n",
       "    .dataframe tbody tr th:only-of-type {\n",
       "        vertical-align: middle;\n",
       "    }\n",
       "\n",
       "    .dataframe tbody tr th {\n",
       "        vertical-align: top;\n",
       "    }\n",
       "\n",
       "    .dataframe thead th {\n",
       "        text-align: right;\n",
       "    }\n",
       "</style>\n",
       "<table border=\"1\" class=\"dataframe\">\n",
       "  <thead>\n",
       "    <tr style=\"text-align: right;\">\n",
       "      <th></th>\n",
       "      <th>unnamed:_0</th>\n",
       "      <th>language</th>\n",
       "      <th>family</th>\n",
       "      <th>branch</th>\n",
       "      <th>first_speakers</th>\n",
       "      <th>second_speakers</th>\n",
       "      <th>total_speakers</th>\n",
       "    </tr>\n",
       "  </thead>\n",
       "  <tbody>\n",
       "    <tr>\n",
       "      <th>0</th>\n",
       "      <td>0</td>\n",
       "      <td>English(excl. creole languages)</td>\n",
       "      <td>Indo-European</td>\n",
       "      <td>Germanic</td>\n",
       "      <td>372900000.0</td>\n",
       "      <td>1.080000e+09</td>\n",
       "      <td>1.452000e+09</td>\n",
       "    </tr>\n",
       "    <tr>\n",
       "      <th>1</th>\n",
       "      <td>1</td>\n",
       "      <td>Mandarin Chinese(incl. Standard Chinese, but e...</td>\n",
       "      <td>Sino-Tibetan</td>\n",
       "      <td>Sinitic</td>\n",
       "      <td>929000000.0</td>\n",
       "      <td>1.987000e+08</td>\n",
       "      <td>1.118000e+09</td>\n",
       "    </tr>\n",
       "    <tr>\n",
       "      <th>2</th>\n",
       "      <td>2</td>\n",
       "      <td>Hindi(excl. Urdu)</td>\n",
       "      <td>Indo-European</td>\n",
       "      <td>Indo-Aryan</td>\n",
       "      <td>343900000.0</td>\n",
       "      <td>2.583000e+08</td>\n",
       "      <td>6.022000e+08</td>\n",
       "    </tr>\n",
       "    <tr>\n",
       "      <th>3</th>\n",
       "      <td>3</td>\n",
       "      <td>Spanish</td>\n",
       "      <td>Indo-European</td>\n",
       "      <td>Romance</td>\n",
       "      <td>474700000.0</td>\n",
       "      <td>7.360000e+07</td>\n",
       "      <td>5.483000e+08</td>\n",
       "    </tr>\n",
       "    <tr>\n",
       "      <th>4</th>\n",
       "      <td>4</td>\n",
       "      <td>French</td>\n",
       "      <td>Indo-European</td>\n",
       "      <td>Romance</td>\n",
       "      <td>79900000.0</td>\n",
       "      <td>1.942000e+08</td>\n",
       "      <td>2.741000e+08</td>\n",
       "    </tr>\n",
       "  </tbody>\n",
       "</table>\n",
       "</div>"
      ],
      "text/plain": [
       "   unnamed:_0                                           language  \\\n",
       "0           0                    English(excl. creole languages)   \n",
       "1           1  Mandarin Chinese(incl. Standard Chinese, but e...   \n",
       "2           2                                  Hindi(excl. Urdu)   \n",
       "3           3                                            Spanish   \n",
       "4           4                                             French   \n",
       "\n",
       "          family      branch  first_speakers  second_speakers  total_speakers  \n",
       "0  Indo-European    Germanic     372900000.0     1.080000e+09    1.452000e+09  \n",
       "1   Sino-Tibetan     Sinitic     929000000.0     1.987000e+08    1.118000e+09  \n",
       "2  Indo-European  Indo-Aryan     343900000.0     2.583000e+08    6.022000e+08  \n",
       "3  Indo-European     Romance     474700000.0     7.360000e+07    5.483000e+08  \n",
       "4  Indo-European     Romance      79900000.0     1.942000e+08    2.741000e+08  "
      ]
     },
     "execution_count": 30,
     "metadata": {},
     "output_type": "execute_result"
    }
   ],
   "source": [
    "top_languages['second_speakers'] = top_languages['second_speakers'].apply(to_float)\n",
    "top_languages['total_speakers'] = top_languages['total_speakers'].apply(to_float)\n",
    "top_languages.head(5)"
   ]
  },
  {
   "cell_type": "code",
   "execution_count": 31,
   "id": "e0ff7918",
   "metadata": {},
   "outputs": [],
   "source": [
    "# I save my cleaned dataframe.\n",
    "\n",
    "top_languages.to_csv(\"top_languages.csv\", index=False)\n",
    "\n",
    "folder_path = \"/Users/usuari/Desktop/Ironhack/BOOTCAMP/projects/project-4-sql-tableau/data\"\n",
    "file_name = \"top_languages.csv\"\n",
    "\n",
    "# Combine the folder path and filename to create the full file path\n",
    "full_file_path = f\"{folder_path}/{file_name}\"\n",
    "\n",
    "# Export the DataFrame to the specified folder\n",
    "top_languages.to_csv(full_file_path, index=False)"
   ]
  },
  {
   "cell_type": "markdown",
   "id": "a94d6a65",
   "metadata": {},
   "source": [
    "## III. Third dataset: All countries details"
   ]
  },
  {
   "cell_type": "code",
   "execution_count": 2,
   "id": "60c18470",
   "metadata": {},
   "outputs": [],
   "source": [
    "details_df = pd.read_csv(\"/Users/usuari/Desktop/Ironhack/BOOTCAMP/projects/project-4-sql-tableau/data/detailed_countries.csv\")"
   ]
  },
  {
   "cell_type": "code",
   "execution_count": 3,
   "id": "7e4e9a83",
   "metadata": {},
   "outputs": [
    {
     "data": {
      "text/plain": [
       "(194, 64)"
      ]
     },
     "execution_count": 3,
     "metadata": {},
     "output_type": "execute_result"
    }
   ],
   "source": [
    "details_df.shape"
   ]
  },
  {
   "cell_type": "code",
   "execution_count": 4,
   "id": "d39874b6",
   "metadata": {
    "scrolled": true
   },
   "outputs": [
    {
     "data": {
      "text/plain": [
       "Index(['country', 'country_long', 'currency', 'capital_city', 'region',\n",
       "       'continent', 'demonym', 'latitude', 'longitude', 'agricultural_land',\n",
       "       'forest_area', 'land_area', 'rural_land', 'urban_land',\n",
       "       'central_government_debt_pct_gdp', 'expense_pct_gdp', 'gdp',\n",
       "       'inflation', 'self_employed_pct', 'tax_revenue_pct_gdp',\n",
       "       'unemployment_pct', 'vulnerable_employment_pct',\n",
       "       'electricity_access_pct', 'alternative_nuclear_energy_pct',\n",
       "       'electricty_production_coal_pct',\n",
       "       'electricty_production_hydroelectric_pct',\n",
       "       'electricty_production_gas_pct', 'electricty_production_nuclear_pct',\n",
       "       'electricty_production_oil_pct', 'electricty_production_renewable_pct',\n",
       "       'energy_imports_pct', 'fossil_energy_consumption_pct',\n",
       "       'renewable_energy_consumption_pct', 'co2_emissions',\n",
       "       'methane_emissions', 'nitrous_oxide_emissions',\n",
       "       'greenhouse_other_emissions', 'urban_population_under_5m',\n",
       "       'health_expenditure_pct_gdp', 'health_expenditure_capita',\n",
       "       'hospital_beds', 'hiv_incidence', 'suicide_rate', 'armed_forces',\n",
       "       'internally_displaced_persons', 'military_expenditure_pct_gdp',\n",
       "       'birth_rate', 'death_rate', 'fertility_rate', 'internet_pct',\n",
       "       'life_expectancy', 'net_migration', 'population_female',\n",
       "       'population_male', 'population', 'women_parliament_seats_pct',\n",
       "       'rural_population', 'urban_population', 'press', 'democracy_score',\n",
       "       'democracy_type', 'median_age', 'political_leader', 'title'],\n",
       "      dtype='object')"
      ]
     },
     "execution_count": 4,
     "metadata": {},
     "output_type": "execute_result"
    }
   ],
   "source": [
    "details_df.columns"
   ]
  },
  {
   "cell_type": "code",
   "execution_count": 5,
   "id": "bdf5c2f6",
   "metadata": {},
   "outputs": [
    {
     "data": {
      "text/plain": [
       "(194, 13)"
      ]
     },
     "execution_count": 5,
     "metadata": {},
     "output_type": "execute_result"
    }
   ],
   "source": [
    "desired_columns = ['country', 'country_long', 'region', 'continent', 'latitude', 'longitude', 'rural_land', 'urban_land', 'population', 'rural_population', 'urban_population', 'democracy_score', 'democracy_type']\n",
    "\n",
    "details = details_df[desired_columns]\n",
    "details.shape"
   ]
  },
  {
   "cell_type": "code",
   "execution_count": 6,
   "id": "451b4341",
   "metadata": {},
   "outputs": [
    {
     "data": {
      "text/plain": [
       "country              object\n",
       "country_long         object\n",
       "region               object\n",
       "continent            object\n",
       "latitude            float64\n",
       "longitude           float64\n",
       "rural_land          float64\n",
       "urban_land          float64\n",
       "population            int64\n",
       "rural_population      int64\n",
       "urban_population      int64\n",
       "democracy_score     float64\n",
       "democracy_type       object\n",
       "dtype: object"
      ]
     },
     "execution_count": 6,
     "metadata": {},
     "output_type": "execute_result"
    }
   ],
   "source": [
    "details.dtypes"
   ]
  },
  {
   "cell_type": "code",
   "execution_count": 7,
   "id": "b4e85dcf",
   "metadata": {},
   "outputs": [
    {
     "data": {
      "text/plain": [
       "country             0\n",
       "country_long        0\n",
       "region              0\n",
       "continent           0\n",
       "latitude            0\n",
       "longitude           0\n",
       "rural_land          0\n",
       "urban_land          0\n",
       "population          0\n",
       "rural_population    0\n",
       "urban_population    0\n",
       "democracy_score     0\n",
       "democracy_type      0\n",
       "dtype: int64"
      ]
     },
     "execution_count": 7,
     "metadata": {},
     "output_type": "execute_result"
    }
   ],
   "source": [
    "details.isna().sum()"
   ]
  },
  {
   "cell_type": "code",
   "execution_count": 8,
   "id": "56c0c1c4",
   "metadata": {},
   "outputs": [
    {
     "name": "stdout",
     "output_type": "stream",
     "text": [
      "Dataset has 0 duplicated data.\n"
     ]
    }
   ],
   "source": [
    "print(f\"Dataset has {details.duplicated().sum()} duplicated data.\")"
   ]
  },
  {
   "cell_type": "code",
   "execution_count": 9,
   "id": "60f53889",
   "metadata": {
    "scrolled": true
   },
   "outputs": [
    {
     "data": {
      "text/html": [
       "<div>\n",
       "<style scoped>\n",
       "    .dataframe tbody tr th:only-of-type {\n",
       "        vertical-align: middle;\n",
       "    }\n",
       "\n",
       "    .dataframe tbody tr th {\n",
       "        vertical-align: top;\n",
       "    }\n",
       "\n",
       "    .dataframe thead th {\n",
       "        text-align: right;\n",
       "    }\n",
       "</style>\n",
       "<table border=\"1\" class=\"dataframe\">\n",
       "  <thead>\n",
       "    <tr style=\"text-align: right;\">\n",
       "      <th></th>\n",
       "      <th>country</th>\n",
       "      <th>country_long</th>\n",
       "      <th>region</th>\n",
       "      <th>continent</th>\n",
       "      <th>latitude</th>\n",
       "      <th>longitude</th>\n",
       "      <th>rural_land</th>\n",
       "      <th>urban_land</th>\n",
       "      <th>population</th>\n",
       "      <th>rural_population</th>\n",
       "      <th>urban_population</th>\n",
       "      <th>democracy_score</th>\n",
       "      <th>democracy_type</th>\n",
       "    </tr>\n",
       "  </thead>\n",
       "  <tbody>\n",
       "    <tr>\n",
       "      <th>57</th>\n",
       "      <td>Ethiopia</td>\n",
       "      <td>Federal Democratic Republic of Ethiopia</td>\n",
       "      <td>Eastern Africa</td>\n",
       "      <td>Africa</td>\n",
       "      <td>8.000000</td>\n",
       "      <td>38.000000</td>\n",
       "      <td>1124620.0</td>\n",
       "      <td>5760.660</td>\n",
       "      <td>123379924</td>\n",
       "      <td>95420799</td>\n",
       "      <td>27959125</td>\n",
       "      <td>3.35</td>\n",
       "      <td>Authoritarian</td>\n",
       "    </tr>\n",
       "    <tr>\n",
       "      <th>171</th>\n",
       "      <td>The Gambia</td>\n",
       "      <td>Republic of The Gambia</td>\n",
       "      <td>Western Africa</td>\n",
       "      <td>Africa</td>\n",
       "      <td>13.466667</td>\n",
       "      <td>-16.566667</td>\n",
       "      <td>10197.8</td>\n",
       "      <td>338.749</td>\n",
       "      <td>2705992</td>\n",
       "      <td>978162</td>\n",
       "      <td>1727830</td>\n",
       "      <td>4.31</td>\n",
       "      <td>Hybrid regime</td>\n",
       "    </tr>\n",
       "    <tr>\n",
       "      <th>69</th>\n",
       "      <td>Guinea-Bissau</td>\n",
       "      <td>Republic of Guinea-Bissau</td>\n",
       "      <td>Western Africa</td>\n",
       "      <td>Africa</td>\n",
       "      <td>12.000000</td>\n",
       "      <td>-15.000000</td>\n",
       "      <td>33293.4</td>\n",
       "      <td>196.264</td>\n",
       "      <td>2105566</td>\n",
       "      <td>1157198</td>\n",
       "      <td>948368</td>\n",
       "      <td>1.98</td>\n",
       "      <td>Authoritarian</td>\n",
       "    </tr>\n",
       "  </tbody>\n",
       "</table>\n",
       "</div>"
      ],
      "text/plain": [
       "           country                             country_long          region  \\\n",
       "57        Ethiopia  Federal Democratic Republic of Ethiopia  Eastern Africa   \n",
       "171     The Gambia                   Republic of The Gambia  Western Africa   \n",
       "69   Guinea-Bissau                Republic of Guinea-Bissau  Western Africa   \n",
       "\n",
       "    continent   latitude  longitude  rural_land  urban_land  population  \\\n",
       "57     Africa   8.000000  38.000000   1124620.0    5760.660   123379924   \n",
       "171    Africa  13.466667 -16.566667     10197.8     338.749     2705992   \n",
       "69     Africa  12.000000 -15.000000     33293.4     196.264     2105566   \n",
       "\n",
       "     rural_population  urban_population  democracy_score democracy_type  \n",
       "57           95420799          27959125             3.35  Authoritarian  \n",
       "171            978162           1727830             4.31  Hybrid regime  \n",
       "69            1157198            948368             1.98  Authoritarian  "
      ]
     },
     "execution_count": 9,
     "metadata": {},
     "output_type": "execute_result"
    }
   ],
   "source": [
    "details.sample(3)"
   ]
  },
  {
   "cell_type": "code",
   "execution_count": 10,
   "id": "f5ff712d",
   "metadata": {},
   "outputs": [],
   "source": [
    "# I save my cleaned dataframe.\n",
    "\n",
    "details.to_csv(\"details.csv\", index=False)\n",
    "\n",
    "folder_path = \"/Users/usuari/Desktop/Ironhack/BOOTCAMP/projects/project-4-sql-tableau/data\"\n",
    "file_name = \"details.csv\"\n",
    "\n",
    "# Combine the folder path and filename to create the full file path\n",
    "full_file_path = f\"{folder_path}/{file_name}\"\n",
    "\n",
    "# Export the DataFrame to the specified folder\n",
    "details.to_csv(full_file_path, index=False)"
   ]
  },
  {
   "cell_type": "markdown",
   "id": "11b403e1",
   "metadata": {},
   "source": [
    "## IV. Fourth dataset: World Countries and Official Languages"
   ]
  },
  {
   "cell_type": "code",
   "execution_count": 11,
   "id": "0765ddf3",
   "metadata": {},
   "outputs": [],
   "source": [
    "official = pd.read_csv(\"/Users/usuari/Desktop/Ironhack/BOOTCAMP/projects/project-4-sql-tableau/data/official_languages.csv\")"
   ]
  },
  {
   "cell_type": "code",
   "execution_count": 12,
   "id": "34434f10",
   "metadata": {
    "scrolled": true
   },
   "outputs": [
    {
     "data": {
      "text/plain": [
       "(198, 2)"
      ]
     },
     "execution_count": 12,
     "metadata": {},
     "output_type": "execute_result"
    }
   ],
   "source": [
    "official.shape"
   ]
  },
  {
   "cell_type": "code",
   "execution_count": 13,
   "id": "504ca268",
   "metadata": {},
   "outputs": [
    {
     "data": {
      "text/plain": [
       "Country             object\n",
       "Languages Spoken    object\n",
       "dtype: object"
      ]
     },
     "execution_count": 13,
     "metadata": {},
     "output_type": "execute_result"
    }
   ],
   "source": [
    "official.dtypes"
   ]
  },
  {
   "cell_type": "code",
   "execution_count": 14,
   "id": "73233e5e",
   "metadata": {
    "scrolled": false
   },
   "outputs": [
    {
     "data": {
      "text/html": [
       "<div>\n",
       "<style scoped>\n",
       "    .dataframe tbody tr th:only-of-type {\n",
       "        vertical-align: middle;\n",
       "    }\n",
       "\n",
       "    .dataframe tbody tr th {\n",
       "        vertical-align: top;\n",
       "    }\n",
       "\n",
       "    .dataframe thead th {\n",
       "        text-align: right;\n",
       "    }\n",
       "</style>\n",
       "<table border=\"1\" class=\"dataframe\">\n",
       "  <thead>\n",
       "    <tr style=\"text-align: right;\">\n",
       "      <th></th>\n",
       "      <th>Country</th>\n",
       "      <th>Languages Spoken</th>\n",
       "    </tr>\n",
       "  </thead>\n",
       "  <tbody>\n",
       "    <tr>\n",
       "      <th>95</th>\n",
       "      <td>Latvia</td>\n",
       "      <td>Latvian 58% (official), Russian 38%, Lithuania...</td>\n",
       "    </tr>\n",
       "    <tr>\n",
       "      <th>58</th>\n",
       "      <td>Fiji</td>\n",
       "      <td>English (official), Fijian, Hindustani</td>\n",
       "    </tr>\n",
       "    <tr>\n",
       "      <th>45</th>\n",
       "      <td>Czech Republic</td>\n",
       "      <td>Czech</td>\n",
       "    </tr>\n",
       "    <tr>\n",
       "      <th>121</th>\n",
       "      <td>Myanmar</td>\n",
       "      <td>Burmese, minority languages</td>\n",
       "    </tr>\n",
       "  </tbody>\n",
       "</table>\n",
       "</div>"
      ],
      "text/plain": [
       "            Country                                   Languages Spoken\n",
       "95           Latvia  Latvian 58% (official), Russian 38%, Lithuania...\n",
       "58             Fiji             English (official), Fijian, Hindustani\n",
       "45   Czech Republic                                              Czech\n",
       "121         Myanmar                        Burmese, minority languages"
      ]
     },
     "execution_count": 14,
     "metadata": {},
     "output_type": "execute_result"
    }
   ],
   "source": [
    "official.sample(4)"
   ]
  },
  {
   "cell_type": "code",
   "execution_count": 15,
   "id": "61bd16f2",
   "metadata": {},
   "outputs": [
    {
     "data": {
      "text/html": [
       "<div>\n",
       "<style scoped>\n",
       "    .dataframe tbody tr th:only-of-type {\n",
       "        vertical-align: middle;\n",
       "    }\n",
       "\n",
       "    .dataframe tbody tr th {\n",
       "        vertical-align: top;\n",
       "    }\n",
       "\n",
       "    .dataframe thead th {\n",
       "        text-align: right;\n",
       "    }\n",
       "</style>\n",
       "<table border=\"1\" class=\"dataframe\">\n",
       "  <thead>\n",
       "    <tr style=\"text-align: right;\">\n",
       "      <th></th>\n",
       "      <th>country</th>\n",
       "      <th>languages_spoken</th>\n",
       "    </tr>\n",
       "  </thead>\n",
       "  <tbody>\n",
       "    <tr>\n",
       "      <th>0</th>\n",
       "      <td>Afghanistan</td>\n",
       "      <td>Dari Persian, Pashtu (both official), other Tu...</td>\n",
       "    </tr>\n",
       "    <tr>\n",
       "      <th>1</th>\n",
       "      <td>Albania</td>\n",
       "      <td>Albanian (Tosk is the official dialect), Greek</td>\n",
       "    </tr>\n",
       "    <tr>\n",
       "      <th>2</th>\n",
       "      <td>Algeria</td>\n",
       "      <td>Arabic (official), French, Berber dialects</td>\n",
       "    </tr>\n",
       "  </tbody>\n",
       "</table>\n",
       "</div>"
      ],
      "text/plain": [
       "       country                                   languages_spoken\n",
       "0  Afghanistan  Dari Persian, Pashtu (both official), other Tu...\n",
       "1      Albania     Albanian (Tosk is the official dialect), Greek\n",
       "2      Algeria         Arabic (official), French, Berber dialects"
      ]
     },
     "execution_count": 15,
     "metadata": {},
     "output_type": "execute_result"
    }
   ],
   "source": [
    "official.columns = [i.lower().replace(\" \", \"_\") for i in official]\n",
    "official.head(3)"
   ]
  },
  {
   "cell_type": "code",
   "execution_count": 16,
   "id": "45ae9597",
   "metadata": {},
   "outputs": [
    {
     "data": {
      "text/plain": [
       "country             0\n",
       "languages_spoken    0\n",
       "dtype: int64"
      ]
     },
     "execution_count": 16,
     "metadata": {},
     "output_type": "execute_result"
    }
   ],
   "source": [
    "official.isna().sum()"
   ]
  },
  {
   "cell_type": "code",
   "execution_count": 17,
   "id": "2b17431b",
   "metadata": {},
   "outputs": [
    {
     "name": "stdout",
     "output_type": "stream",
     "text": [
      "Dataset has 0 duplicated data.\n"
     ]
    }
   ],
   "source": [
    "print(f\"Dataset has {official.duplicated().sum()} duplicated data.\")"
   ]
  },
  {
   "cell_type": "markdown",
   "id": "42931713",
   "metadata": {},
   "source": [
    "### I'm going to join the last two dataframes:"
   ]
  },
  {
   "cell_type": "code",
   "execution_count": 19,
   "id": "c1029bc5",
   "metadata": {},
   "outputs": [],
   "source": [
    "country_lan = pd.merge(details, official, on='country', how='left')  "
   ]
  },
  {
   "cell_type": "code",
   "execution_count": 20,
   "id": "62fa7004",
   "metadata": {},
   "outputs": [
    {
     "data": {
      "text/plain": [
       "(194, 14)"
      ]
     },
     "execution_count": 20,
     "metadata": {},
     "output_type": "execute_result"
    }
   ],
   "source": [
    "country_lan.shape"
   ]
  },
  {
   "cell_type": "code",
   "execution_count": 21,
   "id": "e5a43601",
   "metadata": {
    "scrolled": false
   },
   "outputs": [
    {
     "data": {
      "text/html": [
       "<div>\n",
       "<style scoped>\n",
       "    .dataframe tbody tr th:only-of-type {\n",
       "        vertical-align: middle;\n",
       "    }\n",
       "\n",
       "    .dataframe tbody tr th {\n",
       "        vertical-align: top;\n",
       "    }\n",
       "\n",
       "    .dataframe thead th {\n",
       "        text-align: right;\n",
       "    }\n",
       "</style>\n",
       "<table border=\"1\" class=\"dataframe\">\n",
       "  <thead>\n",
       "    <tr style=\"text-align: right;\">\n",
       "      <th></th>\n",
       "      <th>country</th>\n",
       "      <th>country_long</th>\n",
       "      <th>region</th>\n",
       "      <th>continent</th>\n",
       "      <th>latitude</th>\n",
       "      <th>longitude</th>\n",
       "      <th>rural_land</th>\n",
       "      <th>urban_land</th>\n",
       "      <th>population</th>\n",
       "      <th>rural_population</th>\n",
       "      <th>urban_population</th>\n",
       "      <th>democracy_score</th>\n",
       "      <th>democracy_type</th>\n",
       "      <th>languages_spoken</th>\n",
       "    </tr>\n",
       "  </thead>\n",
       "  <tbody>\n",
       "    <tr>\n",
       "      <th>189</th>\n",
       "      <td>Vietnam</td>\n",
       "      <td>Socialist Republic of Vietnam</td>\n",
       "      <td>South-Eastern Asia</td>\n",
       "      <td>Asia</td>\n",
       "      <td>16.166667</td>\n",
       "      <td>107.833333</td>\n",
       "      <td>297627.000</td>\n",
       "      <td>28615.4000</td>\n",
       "      <td>98186856</td>\n",
       "      <td>60123739</td>\n",
       "      <td>38063117</td>\n",
       "      <td>3.08</td>\n",
       "      <td>Authoritarian</td>\n",
       "      <td>Vietnamese (official); English (increasingly f...</td>\n",
       "    </tr>\n",
       "    <tr>\n",
       "      <th>174</th>\n",
       "      <td>Tonga</td>\n",
       "      <td>Kingdom of Tonga</td>\n",
       "      <td>Polynesia</td>\n",
       "      <td>Oceania</td>\n",
       "      <td>-20.000000</td>\n",
       "      <td>-175.000000</td>\n",
       "      <td>701.786</td>\n",
       "      <td>29.6473</td>\n",
       "      <td>106858</td>\n",
       "      <td>82147</td>\n",
       "      <td>24711</td>\n",
       "      <td>0.00</td>\n",
       "      <td>Unknown</td>\n",
       "      <td>Tongan (an Austronesian language), English</td>\n",
       "    </tr>\n",
       "    <tr>\n",
       "      <th>185</th>\n",
       "      <td>Uruguay</td>\n",
       "      <td>Oriental Republic of Uruguay</td>\n",
       "      <td>South America</td>\n",
       "      <td>Americas</td>\n",
       "      <td>-33.000000</td>\n",
       "      <td>-56.000000</td>\n",
       "      <td>173707.000</td>\n",
       "      <td>1017.8700</td>\n",
       "      <td>3422794</td>\n",
       "      <td>147591</td>\n",
       "      <td>3275203</td>\n",
       "      <td>8.38</td>\n",
       "      <td>Full democracy</td>\n",
       "      <td>Spanish, Portunol, or Brazilero</td>\n",
       "    </tr>\n",
       "  </tbody>\n",
       "</table>\n",
       "</div>"
      ],
      "text/plain": [
       "     country                   country_long              region continent  \\\n",
       "189  Vietnam  Socialist Republic of Vietnam  South-Eastern Asia      Asia   \n",
       "174    Tonga               Kingdom of Tonga           Polynesia   Oceania   \n",
       "185  Uruguay   Oriental Republic of Uruguay       South America  Americas   \n",
       "\n",
       "      latitude   longitude  rural_land  urban_land  population  \\\n",
       "189  16.166667  107.833333  297627.000  28615.4000    98186856   \n",
       "174 -20.000000 -175.000000     701.786     29.6473      106858   \n",
       "185 -33.000000  -56.000000  173707.000   1017.8700     3422794   \n",
       "\n",
       "     rural_population  urban_population  democracy_score  democracy_type  \\\n",
       "189          60123739          38063117             3.08   Authoritarian   \n",
       "174             82147             24711             0.00         Unknown   \n",
       "185            147591           3275203             8.38  Full democracy   \n",
       "\n",
       "                                      languages_spoken  \n",
       "189  Vietnamese (official); English (increasingly f...  \n",
       "174         Tongan (an Austronesian language), English  \n",
       "185                    Spanish, Portunol, or Brazilero  "
      ]
     },
     "execution_count": 21,
     "metadata": {},
     "output_type": "execute_result"
    }
   ],
   "source": [
    "country_lan.sample(3)"
   ]
  },
  {
   "cell_type": "code",
   "execution_count": 58,
   "id": "5895a1b8",
   "metadata": {},
   "outputs": [],
   "source": [
    "# I'm going to create a function, so that I can add a new column with the number of spoken languages for each country.\n",
    "\n",
    "\n",
    "def count_languages(language_string):\n",
    "    if pd.isna(language_string):\n",
    "        return 0  # Return 0 for NaN values\n",
    "    \n",
    "    excluded_terms = [\"many\", \"bilingual\"]\n",
    "\n",
    "    # Split the string by commas, semicolons, and \"and\", but exclude content inside parentheses\n",
    "    separators = re.compile(r',|;|and|\\([^)]*\\)')\n",
    "    languages = [lang.strip() for lang in separators.split(language_string) if lang]\n",
    "\n",
    "    # Exclude specified terms\n",
    "    languages = [lang for lang in languages if all(term not in lang.lower() for term in excluded_terms)]\n",
    "\n",
    "    return len(languages)"
   ]
  },
  {
   "cell_type": "code",
   "execution_count": 59,
   "id": "f99a97c9",
   "metadata": {},
   "outputs": [],
   "source": [
    "country_lan['count_languages'] = country_lan['languages_spoken'].apply(count_languages)"
   ]
  },
  {
   "cell_type": "code",
   "execution_count": 63,
   "id": "c470bc11",
   "metadata": {
    "scrolled": false
   },
   "outputs": [
    {
     "data": {
      "text/html": [
       "<div>\n",
       "<style scoped>\n",
       "    .dataframe tbody tr th:only-of-type {\n",
       "        vertical-align: middle;\n",
       "    }\n",
       "\n",
       "    .dataframe tbody tr th {\n",
       "        vertical-align: top;\n",
       "    }\n",
       "\n",
       "    .dataframe thead th {\n",
       "        text-align: right;\n",
       "    }\n",
       "</style>\n",
       "<table border=\"1\" class=\"dataframe\">\n",
       "  <thead>\n",
       "    <tr style=\"text-align: right;\">\n",
       "      <th></th>\n",
       "      <th>country</th>\n",
       "      <th>country_long</th>\n",
       "      <th>region</th>\n",
       "      <th>continent</th>\n",
       "      <th>latitude</th>\n",
       "      <th>longitude</th>\n",
       "      <th>rural_land</th>\n",
       "      <th>urban_land</th>\n",
       "      <th>population</th>\n",
       "      <th>rural_population</th>\n",
       "      <th>urban_population</th>\n",
       "      <th>democracy_score</th>\n",
       "      <th>democracy_type</th>\n",
       "      <th>languages_spoken</th>\n",
       "      <th>count_languages</th>\n",
       "    </tr>\n",
       "  </thead>\n",
       "  <tbody>\n",
       "    <tr>\n",
       "      <th>29</th>\n",
       "      <td>Cameroon</td>\n",
       "      <td>Republic of Cameroon</td>\n",
       "      <td>Middle Africa</td>\n",
       "      <td>Africa</td>\n",
       "      <td>6.000000</td>\n",
       "      <td>12.0</td>\n",
       "      <td>463837.0</td>\n",
       "      <td>2352.11</td>\n",
       "      <td>27914536</td>\n",
       "      <td>11519492</td>\n",
       "      <td>16395044</td>\n",
       "      <td>3.28</td>\n",
       "      <td>Authoritarian</td>\n",
       "      <td>French, English (both official); 24 major Afri...</td>\n",
       "      <td>3</td>\n",
       "    </tr>\n",
       "    <tr>\n",
       "      <th>141</th>\n",
       "      <td>Rwanda</td>\n",
       "      <td>Republic of Rwanda</td>\n",
       "      <td>Eastern Africa</td>\n",
       "      <td>Africa</td>\n",
       "      <td>-2.000000</td>\n",
       "      <td>30.0</td>\n",
       "      <td>22337.3</td>\n",
       "      <td>1506.23</td>\n",
       "      <td>13776698</td>\n",
       "      <td>11335329</td>\n",
       "      <td>2441369</td>\n",
       "      <td>3.35</td>\n",
       "      <td>Authoritarian</td>\n",
       "      <td>Kinyarwanda, French, and English (all official...</td>\n",
       "      <td>6</td>\n",
       "    </tr>\n",
       "    <tr>\n",
       "      <th>40</th>\n",
       "      <td>Croatia</td>\n",
       "      <td>Republic of Croatia</td>\n",
       "      <td>Southern Europe</td>\n",
       "      <td>Europe</td>\n",
       "      <td>45.166667</td>\n",
       "      <td>15.5</td>\n",
       "      <td>54777.1</td>\n",
       "      <td>1648.41</td>\n",
       "      <td>3854000</td>\n",
       "      <td>1610240</td>\n",
       "      <td>2243760</td>\n",
       "      <td>6.57</td>\n",
       "      <td>Flawed democracy</td>\n",
       "      <td>Croatian 96% (official), other 4% (including I...</td>\n",
       "      <td>2</td>\n",
       "    </tr>\n",
       "  </tbody>\n",
       "</table>\n",
       "</div>"
      ],
      "text/plain": [
       "      country          country_long           region continent   latitude  \\\n",
       "29   Cameroon  Republic of Cameroon    Middle Africa    Africa   6.000000   \n",
       "141    Rwanda    Republic of Rwanda   Eastern Africa    Africa  -2.000000   \n",
       "40    Croatia   Republic of Croatia  Southern Europe    Europe  45.166667   \n",
       "\n",
       "     longitude  rural_land  urban_land  population  rural_population  \\\n",
       "29        12.0    463837.0     2352.11    27914536          11519492   \n",
       "141       30.0     22337.3     1506.23    13776698          11335329   \n",
       "40        15.5     54777.1     1648.41     3854000           1610240   \n",
       "\n",
       "     urban_population  democracy_score    democracy_type  \\\n",
       "29           16395044             3.28     Authoritarian   \n",
       "141           2441369             3.35     Authoritarian   \n",
       "40            2243760             6.57  Flawed democracy   \n",
       "\n",
       "                                      languages_spoken  count_languages  \n",
       "29   French, English (both official); 24 major Afri...                3  \n",
       "141  Kinyarwanda, French, and English (all official...                6  \n",
       "40   Croatian 96% (official), other 4% (including I...                2  "
      ]
     },
     "execution_count": 63,
     "metadata": {},
     "output_type": "execute_result"
    }
   ],
   "source": [
    "country_lan.sample(3)"
   ]
  },
  {
   "cell_type": "code",
   "execution_count": 64,
   "id": "d5541aa8",
   "metadata": {
    "scrolled": true
   },
   "outputs": [
    {
     "data": {
      "text/plain": [
       "country              0\n",
       "country_long         0\n",
       "region               0\n",
       "continent            0\n",
       "latitude             0\n",
       "longitude            0\n",
       "rural_land           0\n",
       "urban_land           0\n",
       "population           0\n",
       "rural_population     0\n",
       "urban_population     0\n",
       "democracy_score      0\n",
       "democracy_type       0\n",
       "languages_spoken    16\n",
       "count_languages      0\n",
       "dtype: int64"
      ]
     },
     "execution_count": 64,
     "metadata": {},
     "output_type": "execute_result"
    }
   ],
   "source": [
    "country_lan.isna().sum()"
   ]
  },
  {
   "cell_type": "code",
   "execution_count": 65,
   "id": "eded18ed",
   "metadata": {},
   "outputs": [],
   "source": [
    "# I save the new dataframe.\n",
    "\n",
    "country_lan.to_csv(\"country_lan.csv\", index=False)\n",
    "\n",
    "folder_path = \"/Users/usuari/Desktop/Ironhack/BOOTCAMP/projects/project-4-sql-tableau/data\"\n",
    "file_name = \"country_lan.csv\"\n",
    "\n",
    "# Combine the folder path and filename to create the full file path\n",
    "full_file_path = f\"{folder_path}/{file_name}\"\n",
    "\n",
    "# Export the DataFrame to the specified folder\n",
    "country_lan.to_csv(full_file_path, index=False)"
   ]
  },
  {
   "cell_type": "code",
   "execution_count": null,
   "id": "aec71651",
   "metadata": {},
   "outputs": [],
   "source": []
  }
 ],
 "metadata": {
  "kernelspec": {
   "display_name": "ironhack",
   "language": "python",
   "name": "ironhack"
  },
  "language_info": {
   "codemirror_mode": {
    "name": "ipython",
    "version": 3
   },
   "file_extension": ".py",
   "mimetype": "text/x-python",
   "name": "python",
   "nbconvert_exporter": "python",
   "pygments_lexer": "ipython3",
   "version": "3.11.5"
  }
 },
 "nbformat": 4,
 "nbformat_minor": 5
}
