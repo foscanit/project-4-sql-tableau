{
 "cells": [
  {
   "cell_type": "code",
   "execution_count": 2,
   "id": "0be44549",
   "metadata": {},
   "outputs": [],
   "source": [
    "def diamond(n):\n",
    "    if n < 1 or n % 2 == 0:\n",
    "        return None\n",
    "    else:\n",
    "        ast = ''\n",
    "        med = n // 2 + 1\n",
    "        for i in range(1, n + 1):\n",
    "            spaces = abs(med - i)\n",
    "            stars = n - 2 * spaces\n",
    "            ast += ' ' * spaces + '*' * stars + '\\n'\n",
    "        return ast"
   ]
  },
  {
   "cell_type": "code",
   "execution_count": 3,
   "id": "ac25de4b",
   "metadata": {},
   "outputs": [
    {
     "data": {
      "text/plain": [
       "'  *\\n ***\\n*****\\n ***\\n  *\\n'"
      ]
     },
     "execution_count": 3,
     "metadata": {},
     "output_type": "execute_result"
    }
   ],
   "source": [
    "diamond(5)"
   ]
  }
 ],
 "metadata": {
  "kernelspec": {
   "display_name": "ironhack",
   "language": "python",
   "name": "ironhack"
  },
  "language_info": {
   "codemirror_mode": {
    "name": "ipython",
    "version": 3
   },
   "file_extension": ".py",
   "mimetype": "text/x-python",
   "name": "python",
   "nbconvert_exporter": "python",
   "pygments_lexer": "ipython3",
   "version": "3.11.5"
  }
 },
 "nbformat": 4,
 "nbformat_minor": 5
}
